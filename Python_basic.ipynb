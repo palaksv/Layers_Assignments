{
 "cells": [
  {
   "cell_type": "code",
   "execution_count": 2,
   "id": "b3faf129",
   "metadata": {},
   "outputs": [
    {
     "name": "stdout",
     "output_type": "stream",
     "text": [
      "7\n",
      "Weird\n"
     ]
    }
   ],
   "source": [
    "\n",
    "\n",
    "n=int (input())\n",
    "\n",
    "if n%2==1:\n",
    "  print(\"Weird\")\n",
    "else:\n",
    "   if 2<=n<=5:\n",
    "      print(\"Not Weird\")\n",
    "   elif 6<=n<=20:\n",
    "      print(\"Weird\") \n",
    "   else:\n",
    "      print(\"Not Weird\")"
   ]
  },
  {
   "cell_type": "code",
   "execution_count": 3,
   "id": "799665a5",
   "metadata": {},
   "outputs": [
    {
     "name": "stdout",
     "output_type": "stream",
     "text": [
      "5\n",
      "3\n",
      "8\n",
      "2\n",
      "15\n"
     ]
    }
   ],
   "source": [
    "a = int(input())\n",
    "b = int(input())\n",
    "print (a+b)\n",
    "print (a-b)\n",
    "print (a*b)"
   ]
  },
  {
   "cell_type": "code",
   "execution_count": 4,
   "id": "a539076d",
   "metadata": {},
   "outputs": [
    {
     "name": "stdout",
     "output_type": "stream",
     "text": [
      "4\n",
      "3\n",
      "1\n",
      "1.3333333333333333\n"
     ]
    }
   ],
   "source": [
    "a = int(input()) \n",
    "b = int(input())\n",
    "print (a//b) \n",
    "print (a/b)"
   ]
  },
  {
   "cell_type": "code",
   "execution_count": 6,
   "id": "f4d4042e",
   "metadata": {},
   "outputs": [
    {
     "name": "stdout",
     "output_type": "stream",
     "text": [
      "4\n",
      "0\n",
      "1\n",
      "4\n",
      "9\n"
     ]
    }
   ],
   "source": [
    "n = int(input()) \n",
    "for i in range(0,n): \n",
    "    print (i**2)"
   ]
  },
  {
   "cell_type": "code",
   "execution_count": 17,
   "id": "0119ce88",
   "metadata": {},
   "outputs": [
    {
     "name": "stdout",
     "output_type": "stream",
     "text": [
      "2000\n",
      "True\n"
     ]
    }
   ],
   "source": [
    "def is_leap (year):\n",
    "   leap = False\n",
    "   if year%4==0:\n",
    "      if year %100==0: \n",
    "          if year%400==0: \n",
    "               leap=True\n",
    "      else:\n",
    "           leap=True\n",
    "   return leap\n",
    "year = int(input()) \n",
    "ans =is_leap (year)\n",
    "print (ans)"
   ]
  },
  {
   "cell_type": "code",
   "execution_count": 18,
   "id": "d1d54e16",
   "metadata": {},
   "outputs": [
    {
     "name": "stdout",
     "output_type": "stream",
     "text": [
      "5\n",
      "12345"
     ]
    }
   ],
   "source": [
    "n=int(input())\n",
    "for i in range (1,n+1):\n",
    "    print(i,end=\"\")"
   ]
  },
  {
   "cell_type": "code",
   "execution_count": 20,
   "id": "fc95e0fd",
   "metadata": {},
   "outputs": [
    {
     "name": "stdout",
     "output_type": "stream",
     "text": [
      "1\n",
      "1\n",
      "1\n",
      "2\n",
      "[[0, 0, 0], [0, 0, 1], [0, 1, 0], [1, 0, 0], [1, 1, 1]]\n"
     ]
    }
   ],
   "source": [
    "x = int(input())\n",
    "y = int(input())\n",
    "z = int(input())\n",
    "n = int(input())\n",
    "l = []\n",
    "\n",
    "for i in range (0,x+1): \n",
    "    for j in range (0,y+1): \n",
    "        for k in range (0, z+1): \n",
    "            if (i+j+k)!=n:\n",
    "                list=[]\n",
    "                list.append(i)\n",
    "                list.append(j)\n",
    "                list.append(k) \n",
    "                l.append(list)\n",
    "\n",
    "print (l)"
   ]
  },
  {
   "cell_type": "code",
   "execution_count": 30,
   "id": "9f9cf880",
   "metadata": {},
   "outputs": [
    {
     "name": "stdout",
     "output_type": "stream",
     "text": [
      "2\n",
      "1 2\n",
      "-3550055125485641917\n"
     ]
    }
   ],
   "source": [
    "n = int(input())\n",
    "t=tuple(map(int, input().split()))\n",
    "print (hash(t))"
   ]
  }
 ],
 "metadata": {
  "kernelspec": {
   "display_name": "Python 3 (ipykernel)",
   "language": "python",
   "name": "python3"
  },
  "language_info": {
   "codemirror_mode": {
    "name": "ipython",
    "version": 3
   },
   "file_extension": ".py",
   "mimetype": "text/x-python",
   "name": "python",
   "nbconvert_exporter": "python",
   "pygments_lexer": "ipython3",
   "version": "3.8.6"
  }
 },
 "nbformat": 4,
 "nbformat_minor": 5
}
